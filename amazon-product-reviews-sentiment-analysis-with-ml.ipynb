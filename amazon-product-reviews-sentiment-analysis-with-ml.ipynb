{
 "cells": [
  {
   "cell_type": "markdown",
   "metadata": {
    "papermill": {
     "duration": 0.02004,
     "end_time": "2021-02-26T02:55:43.074570",
     "exception": false,
     "start_time": "2021-02-26T02:55:43.054530",
     "status": "completed"
    },
    "tags": []
   },
   "source": [
    "Product reviews are becoming more important with the evolution of traditional brick and mortar retail stores to online shopping.\n",
    "\n",
    "Consumers are posting reviews directly on product pages in real time. With the vast amount of consumer reviews, this creates an opportunity to see how the market reacts to a specific product."
   ]
  },
  {
   "cell_type": "code",
   "execution_count": 1,
   "metadata": {
    "execution": {
     "iopub.execute_input": "2021-02-26T02:55:43.120991Z",
     "iopub.status.busy": "2021-02-26T02:55:43.120155Z",
     "iopub.status.idle": "2021-02-26T02:55:45.271617Z",
     "shell.execute_reply": "2021-02-26T02:55:45.272135Z"
    },
    "papermill": {
     "duration": 2.178753,
     "end_time": "2021-02-26T02:55:45.272465",
     "exception": false,
     "start_time": "2021-02-26T02:55:43.093712",
     "status": "completed"
    },
    "tags": []
   },
   "outputs": [
    {
     "data": {
      "text/html": [
       "<div>\n",
       "<style scoped>\n",
       "    .dataframe tbody tr th:only-of-type {\n",
       "        vertical-align: middle;\n",
       "    }\n",
       "\n",
       "    .dataframe tbody tr th {\n",
       "        vertical-align: top;\n",
       "    }\n",
       "\n",
       "    .dataframe thead th {\n",
       "        text-align: right;\n",
       "    }\n",
       "</style>\n",
       "<table border=\"1\" class=\"dataframe\">\n",
       "  <thead>\n",
       "    <tr style=\"text-align: right;\">\n",
       "      <th></th>\n",
       "      <th>id</th>\n",
       "      <th>name</th>\n",
       "      <th>asins</th>\n",
       "      <th>brand</th>\n",
       "      <th>categories</th>\n",
       "      <th>keys</th>\n",
       "      <th>manufacturer</th>\n",
       "      <th>reviews.date</th>\n",
       "      <th>reviews.dateAdded</th>\n",
       "      <th>reviews.dateSeen</th>\n",
       "      <th>...</th>\n",
       "      <th>reviews.doRecommend</th>\n",
       "      <th>reviews.id</th>\n",
       "      <th>reviews.numHelpful</th>\n",
       "      <th>reviews.rating</th>\n",
       "      <th>reviews.sourceURLs</th>\n",
       "      <th>reviews.text</th>\n",
       "      <th>reviews.title</th>\n",
       "      <th>reviews.userCity</th>\n",
       "      <th>reviews.userProvince</th>\n",
       "      <th>reviews.username</th>\n",
       "    </tr>\n",
       "  </thead>\n",
       "  <tbody>\n",
       "    <tr>\n",
       "      <th>0</th>\n",
       "      <td>AVqkIhwDv8e3D1O-lebb</td>\n",
       "      <td>All-New Fire HD 8 Tablet, 8 HD Display, Wi-Fi,...</td>\n",
       "      <td>B01AHB9CN2</td>\n",
       "      <td>Amazon</td>\n",
       "      <td>Electronics,iPad &amp; Tablets,All Tablets,Fire Ta...</td>\n",
       "      <td>841667104676,amazon/53004484,amazon/b01ahb9cn2...</td>\n",
       "      <td>Amazon</td>\n",
       "      <td>2017-01-13T00:00:00.000Z</td>\n",
       "      <td>2017-07-03T23:33:15Z</td>\n",
       "      <td>2017-06-07T09:04:00.000Z,2017-04-30T00:45:00.000Z</td>\n",
       "      <td>...</td>\n",
       "      <td>True</td>\n",
       "      <td>NaN</td>\n",
       "      <td>0.0</td>\n",
       "      <td>5.0</td>\n",
       "      <td>http://reviews.bestbuy.com/3545/5620406/review...</td>\n",
       "      <td>This product so far has not disappointed. My c...</td>\n",
       "      <td>Kindle</td>\n",
       "      <td>NaN</td>\n",
       "      <td>NaN</td>\n",
       "      <td>Adapter</td>\n",
       "    </tr>\n",
       "    <tr>\n",
       "      <th>1</th>\n",
       "      <td>AVqkIhwDv8e3D1O-lebb</td>\n",
       "      <td>All-New Fire HD 8 Tablet, 8 HD Display, Wi-Fi,...</td>\n",
       "      <td>B01AHB9CN2</td>\n",
       "      <td>Amazon</td>\n",
       "      <td>Electronics,iPad &amp; Tablets,All Tablets,Fire Ta...</td>\n",
       "      <td>841667104676,amazon/53004484,amazon/b01ahb9cn2...</td>\n",
       "      <td>Amazon</td>\n",
       "      <td>2017-01-13T00:00:00.000Z</td>\n",
       "      <td>2017-07-03T23:33:15Z</td>\n",
       "      <td>2017-06-07T09:04:00.000Z,2017-04-30T00:45:00.000Z</td>\n",
       "      <td>...</td>\n",
       "      <td>True</td>\n",
       "      <td>NaN</td>\n",
       "      <td>0.0</td>\n",
       "      <td>5.0</td>\n",
       "      <td>http://reviews.bestbuy.com/3545/5620406/review...</td>\n",
       "      <td>great for beginner or experienced person. Boug...</td>\n",
       "      <td>very fast</td>\n",
       "      <td>NaN</td>\n",
       "      <td>NaN</td>\n",
       "      <td>truman</td>\n",
       "    </tr>\n",
       "    <tr>\n",
       "      <th>2</th>\n",
       "      <td>AVqkIhwDv8e3D1O-lebb</td>\n",
       "      <td>All-New Fire HD 8 Tablet, 8 HD Display, Wi-Fi,...</td>\n",
       "      <td>B01AHB9CN2</td>\n",
       "      <td>Amazon</td>\n",
       "      <td>Electronics,iPad &amp; Tablets,All Tablets,Fire Ta...</td>\n",
       "      <td>841667104676,amazon/53004484,amazon/b01ahb9cn2...</td>\n",
       "      <td>Amazon</td>\n",
       "      <td>2017-01-13T00:00:00.000Z</td>\n",
       "      <td>2017-07-03T23:33:15Z</td>\n",
       "      <td>2017-06-07T09:04:00.000Z,2017-04-30T00:45:00.000Z</td>\n",
       "      <td>...</td>\n",
       "      <td>True</td>\n",
       "      <td>NaN</td>\n",
       "      <td>0.0</td>\n",
       "      <td>5.0</td>\n",
       "      <td>http://reviews.bestbuy.com/3545/5620406/review...</td>\n",
       "      <td>Inexpensive tablet for him to use and learn on...</td>\n",
       "      <td>Beginner tablet for our 9 year old son.</td>\n",
       "      <td>NaN</td>\n",
       "      <td>NaN</td>\n",
       "      <td>DaveZ</td>\n",
       "    </tr>\n",
       "    <tr>\n",
       "      <th>3</th>\n",
       "      <td>AVqkIhwDv8e3D1O-lebb</td>\n",
       "      <td>All-New Fire HD 8 Tablet, 8 HD Display, Wi-Fi,...</td>\n",
       "      <td>B01AHB9CN2</td>\n",
       "      <td>Amazon</td>\n",
       "      <td>Electronics,iPad &amp; Tablets,All Tablets,Fire Ta...</td>\n",
       "      <td>841667104676,amazon/53004484,amazon/b01ahb9cn2...</td>\n",
       "      <td>Amazon</td>\n",
       "      <td>2017-01-13T00:00:00.000Z</td>\n",
       "      <td>2017-07-03T23:33:15Z</td>\n",
       "      <td>2017-06-07T09:04:00.000Z,2017-04-30T00:45:00.000Z</td>\n",
       "      <td>...</td>\n",
       "      <td>True</td>\n",
       "      <td>NaN</td>\n",
       "      <td>0.0</td>\n",
       "      <td>4.0</td>\n",
       "      <td>http://reviews.bestbuy.com/3545/5620406/review...</td>\n",
       "      <td>I've had my Fire HD 8 two weeks now and I love...</td>\n",
       "      <td>Good!!!</td>\n",
       "      <td>NaN</td>\n",
       "      <td>NaN</td>\n",
       "      <td>Shacks</td>\n",
       "    </tr>\n",
       "    <tr>\n",
       "      <th>4</th>\n",
       "      <td>AVqkIhwDv8e3D1O-lebb</td>\n",
       "      <td>All-New Fire HD 8 Tablet, 8 HD Display, Wi-Fi,...</td>\n",
       "      <td>B01AHB9CN2</td>\n",
       "      <td>Amazon</td>\n",
       "      <td>Electronics,iPad &amp; Tablets,All Tablets,Fire Ta...</td>\n",
       "      <td>841667104676,amazon/53004484,amazon/b01ahb9cn2...</td>\n",
       "      <td>Amazon</td>\n",
       "      <td>2017-01-12T00:00:00.000Z</td>\n",
       "      <td>2017-07-03T23:33:15Z</td>\n",
       "      <td>2017-06-07T09:04:00.000Z,2017-04-30T00:45:00.000Z</td>\n",
       "      <td>...</td>\n",
       "      <td>True</td>\n",
       "      <td>NaN</td>\n",
       "      <td>0.0</td>\n",
       "      <td>5.0</td>\n",
       "      <td>http://reviews.bestbuy.com/3545/5620406/review...</td>\n",
       "      <td>I bought this for my grand daughter when she c...</td>\n",
       "      <td>Fantastic Tablet for kids</td>\n",
       "      <td>NaN</td>\n",
       "      <td>NaN</td>\n",
       "      <td>explore42</td>\n",
       "    </tr>\n",
       "  </tbody>\n",
       "</table>\n",
       "<p>5 rows × 21 columns</p>\n",
       "</div>"
      ],
      "text/plain": [
       "                     id                                               name  \\\n",
       "0  AVqkIhwDv8e3D1O-lebb  All-New Fire HD 8 Tablet, 8 HD Display, Wi-Fi,...   \n",
       "1  AVqkIhwDv8e3D1O-lebb  All-New Fire HD 8 Tablet, 8 HD Display, Wi-Fi,...   \n",
       "2  AVqkIhwDv8e3D1O-lebb  All-New Fire HD 8 Tablet, 8 HD Display, Wi-Fi,...   \n",
       "3  AVqkIhwDv8e3D1O-lebb  All-New Fire HD 8 Tablet, 8 HD Display, Wi-Fi,...   \n",
       "4  AVqkIhwDv8e3D1O-lebb  All-New Fire HD 8 Tablet, 8 HD Display, Wi-Fi,...   \n",
       "\n",
       "        asins   brand                                         categories  \\\n",
       "0  B01AHB9CN2  Amazon  Electronics,iPad & Tablets,All Tablets,Fire Ta...   \n",
       "1  B01AHB9CN2  Amazon  Electronics,iPad & Tablets,All Tablets,Fire Ta...   \n",
       "2  B01AHB9CN2  Amazon  Electronics,iPad & Tablets,All Tablets,Fire Ta...   \n",
       "3  B01AHB9CN2  Amazon  Electronics,iPad & Tablets,All Tablets,Fire Ta...   \n",
       "4  B01AHB9CN2  Amazon  Electronics,iPad & Tablets,All Tablets,Fire Ta...   \n",
       "\n",
       "                                                keys manufacturer  \\\n",
       "0  841667104676,amazon/53004484,amazon/b01ahb9cn2...       Amazon   \n",
       "1  841667104676,amazon/53004484,amazon/b01ahb9cn2...       Amazon   \n",
       "2  841667104676,amazon/53004484,amazon/b01ahb9cn2...       Amazon   \n",
       "3  841667104676,amazon/53004484,amazon/b01ahb9cn2...       Amazon   \n",
       "4  841667104676,amazon/53004484,amazon/b01ahb9cn2...       Amazon   \n",
       "\n",
       "               reviews.date     reviews.dateAdded  \\\n",
       "0  2017-01-13T00:00:00.000Z  2017-07-03T23:33:15Z   \n",
       "1  2017-01-13T00:00:00.000Z  2017-07-03T23:33:15Z   \n",
       "2  2017-01-13T00:00:00.000Z  2017-07-03T23:33:15Z   \n",
       "3  2017-01-13T00:00:00.000Z  2017-07-03T23:33:15Z   \n",
       "4  2017-01-12T00:00:00.000Z  2017-07-03T23:33:15Z   \n",
       "\n",
       "                                    reviews.dateSeen  ... reviews.doRecommend  \\\n",
       "0  2017-06-07T09:04:00.000Z,2017-04-30T00:45:00.000Z  ...                True   \n",
       "1  2017-06-07T09:04:00.000Z,2017-04-30T00:45:00.000Z  ...                True   \n",
       "2  2017-06-07T09:04:00.000Z,2017-04-30T00:45:00.000Z  ...                True   \n",
       "3  2017-06-07T09:04:00.000Z,2017-04-30T00:45:00.000Z  ...                True   \n",
       "4  2017-06-07T09:04:00.000Z,2017-04-30T00:45:00.000Z  ...                True   \n",
       "\n",
       "  reviews.id  reviews.numHelpful  reviews.rating  \\\n",
       "0        NaN                 0.0             5.0   \n",
       "1        NaN                 0.0             5.0   \n",
       "2        NaN                 0.0             5.0   \n",
       "3        NaN                 0.0             4.0   \n",
       "4        NaN                 0.0             5.0   \n",
       "\n",
       "                                  reviews.sourceURLs  \\\n",
       "0  http://reviews.bestbuy.com/3545/5620406/review...   \n",
       "1  http://reviews.bestbuy.com/3545/5620406/review...   \n",
       "2  http://reviews.bestbuy.com/3545/5620406/review...   \n",
       "3  http://reviews.bestbuy.com/3545/5620406/review...   \n",
       "4  http://reviews.bestbuy.com/3545/5620406/review...   \n",
       "\n",
       "                                        reviews.text  \\\n",
       "0  This product so far has not disappointed. My c...   \n",
       "1  great for beginner or experienced person. Boug...   \n",
       "2  Inexpensive tablet for him to use and learn on...   \n",
       "3  I've had my Fire HD 8 two weeks now and I love...   \n",
       "4  I bought this for my grand daughter when she c...   \n",
       "\n",
       "                             reviews.title reviews.userCity  \\\n",
       "0                                   Kindle              NaN   \n",
       "1                                very fast              NaN   \n",
       "2  Beginner tablet for our 9 year old son.              NaN   \n",
       "3                                  Good!!!              NaN   \n",
       "4                Fantastic Tablet for kids              NaN   \n",
       "\n",
       "   reviews.userProvince  reviews.username  \n",
       "0                   NaN           Adapter  \n",
       "1                   NaN            truman  \n",
       "2                   NaN             DaveZ  \n",
       "3                   NaN            Shacks  \n",
       "4                   NaN         explore42  \n",
       "\n",
       "[5 rows x 21 columns]"
      ]
     },
     "execution_count": 1,
     "metadata": {},
     "output_type": "execute_result"
    }
   ],
   "source": [
    "import matplotlib.pyplot as plt\n",
    "import pandas as pd\n",
    "import numpy as np\n",
    "import seaborn as sns\n",
    "import math\n",
    "import warnings\n",
    "warnings.filterwarnings('ignore') # Hides warning\n",
    "warnings.filterwarnings(\"ignore\", category=DeprecationWarning)\n",
    "warnings.filterwarnings(\"ignore\",category=UserWarning)\n",
    "sns.set_style(\"whitegrid\") # Plotting style\n",
    "np.random.seed(42) # seeding random number generator\n",
    "\n",
    "df = pd.read_csv('../input/amazon-product-reviews/amazon.csv')\n",
    "df.head()"
   ]
  },
  {
   "cell_type": "markdown",
   "metadata": {
    "papermill": {
     "duration": 0.019334,
     "end_time": "2021-02-26T02:55:45.311733",
     "exception": false,
     "start_time": "2021-02-26T02:55:45.292399",
     "status": "completed"
    },
    "tags": []
   },
   "source": [
    "# Describing the Dataset"
   ]
  },
  {
   "cell_type": "code",
   "execution_count": 2,
   "metadata": {
    "execution": {
     "iopub.execute_input": "2021-02-26T02:55:45.355633Z",
     "iopub.status.busy": "2021-02-26T02:55:45.354910Z",
     "iopub.status.idle": "2021-02-26T02:55:45.390085Z",
     "shell.execute_reply": "2021-02-26T02:55:45.389406Z"
    },
    "papermill": {
     "duration": 0.058866,
     "end_time": "2021-02-26T02:55:45.390236",
     "exception": false,
     "start_time": "2021-02-26T02:55:45.331370",
     "status": "completed"
    },
    "tags": []
   },
   "outputs": [
    {
     "data": {
      "text/html": [
       "<div>\n",
       "<style scoped>\n",
       "    .dataframe tbody tr th:only-of-type {\n",
       "        vertical-align: middle;\n",
       "    }\n",
       "\n",
       "    .dataframe tbody tr th {\n",
       "        vertical-align: top;\n",
       "    }\n",
       "\n",
       "    .dataframe thead th {\n",
       "        text-align: right;\n",
       "    }\n",
       "</style>\n",
       "<table border=\"1\" class=\"dataframe\">\n",
       "  <thead>\n",
       "    <tr style=\"text-align: right;\">\n",
       "      <th></th>\n",
       "      <th>reviews.id</th>\n",
       "      <th>reviews.numHelpful</th>\n",
       "      <th>reviews.rating</th>\n",
       "      <th>reviews.userCity</th>\n",
       "      <th>reviews.userProvince</th>\n",
       "    </tr>\n",
       "  </thead>\n",
       "  <tbody>\n",
       "    <tr>\n",
       "      <th>count</th>\n",
       "      <td>1.0</td>\n",
       "      <td>34131.000000</td>\n",
       "      <td>34627.000000</td>\n",
       "      <td>0.0</td>\n",
       "      <td>0.0</td>\n",
       "    </tr>\n",
       "    <tr>\n",
       "      <th>mean</th>\n",
       "      <td>111372787.0</td>\n",
       "      <td>0.630248</td>\n",
       "      <td>4.584573</td>\n",
       "      <td>NaN</td>\n",
       "      <td>NaN</td>\n",
       "    </tr>\n",
       "    <tr>\n",
       "      <th>std</th>\n",
       "      <td>NaN</td>\n",
       "      <td>13.215775</td>\n",
       "      <td>0.735653</td>\n",
       "      <td>NaN</td>\n",
       "      <td>NaN</td>\n",
       "    </tr>\n",
       "    <tr>\n",
       "      <th>min</th>\n",
       "      <td>111372787.0</td>\n",
       "      <td>0.000000</td>\n",
       "      <td>1.000000</td>\n",
       "      <td>NaN</td>\n",
       "      <td>NaN</td>\n",
       "    </tr>\n",
       "    <tr>\n",
       "      <th>25%</th>\n",
       "      <td>111372787.0</td>\n",
       "      <td>0.000000</td>\n",
       "      <td>4.000000</td>\n",
       "      <td>NaN</td>\n",
       "      <td>NaN</td>\n",
       "    </tr>\n",
       "    <tr>\n",
       "      <th>50%</th>\n",
       "      <td>111372787.0</td>\n",
       "      <td>0.000000</td>\n",
       "      <td>5.000000</td>\n",
       "      <td>NaN</td>\n",
       "      <td>NaN</td>\n",
       "    </tr>\n",
       "    <tr>\n",
       "      <th>75%</th>\n",
       "      <td>111372787.0</td>\n",
       "      <td>0.000000</td>\n",
       "      <td>5.000000</td>\n",
       "      <td>NaN</td>\n",
       "      <td>NaN</td>\n",
       "    </tr>\n",
       "    <tr>\n",
       "      <th>max</th>\n",
       "      <td>111372787.0</td>\n",
       "      <td>814.000000</td>\n",
       "      <td>5.000000</td>\n",
       "      <td>NaN</td>\n",
       "      <td>NaN</td>\n",
       "    </tr>\n",
       "  </tbody>\n",
       "</table>\n",
       "</div>"
      ],
      "text/plain": [
       "        reviews.id  reviews.numHelpful  reviews.rating  reviews.userCity  \\\n",
       "count          1.0        34131.000000    34627.000000               0.0   \n",
       "mean   111372787.0            0.630248        4.584573               NaN   \n",
       "std            NaN           13.215775        0.735653               NaN   \n",
       "min    111372787.0            0.000000        1.000000               NaN   \n",
       "25%    111372787.0            0.000000        4.000000               NaN   \n",
       "50%    111372787.0            0.000000        5.000000               NaN   \n",
       "75%    111372787.0            0.000000        5.000000               NaN   \n",
       "max    111372787.0          814.000000        5.000000               NaN   \n",
       "\n",
       "       reviews.userProvince  \n",
       "count                   0.0  \n",
       "mean                    NaN  \n",
       "std                     NaN  \n",
       "min                     NaN  \n",
       "25%                     NaN  \n",
       "50%                     NaN  \n",
       "75%                     NaN  \n",
       "max                     NaN  "
      ]
     },
     "execution_count": 2,
     "metadata": {},
     "output_type": "execute_result"
    }
   ],
   "source": [
    "data = df.copy()\n",
    "data.describe()"
   ]
  },
  {
   "cell_type": "code",
   "execution_count": 3,
   "metadata": {
    "execution": {
     "iopub.execute_input": "2021-02-26T02:55:45.436107Z",
     "iopub.status.busy": "2021-02-26T02:55:45.435466Z",
     "iopub.status.idle": "2021-02-26T02:55:45.508859Z",
     "shell.execute_reply": "2021-02-26T02:55:45.508160Z"
    },
    "papermill": {
     "duration": 0.098723,
     "end_time": "2021-02-26T02:55:45.509024",
     "exception": false,
     "start_time": "2021-02-26T02:55:45.410301",
     "status": "completed"
    },
    "tags": []
   },
   "outputs": [
    {
     "name": "stdout",
     "output_type": "stream",
     "text": [
      "<class 'pandas.core.frame.DataFrame'>\n",
      "RangeIndex: 34660 entries, 0 to 34659\n",
      "Data columns (total 21 columns):\n",
      " #   Column                Non-Null Count  Dtype  \n",
      "---  ------                --------------  -----  \n",
      " 0   id                    34660 non-null  object \n",
      " 1   name                  27900 non-null  object \n",
      " 2   asins                 34658 non-null  object \n",
      " 3   brand                 34660 non-null  object \n",
      " 4   categories            34660 non-null  object \n",
      " 5   keys                  34660 non-null  object \n",
      " 6   manufacturer          34660 non-null  object \n",
      " 7   reviews.date          34621 non-null  object \n",
      " 8   reviews.dateAdded     24039 non-null  object \n",
      " 9   reviews.dateSeen      34660 non-null  object \n",
      " 10  reviews.didPurchase   1 non-null      object \n",
      " 11  reviews.doRecommend   34066 non-null  object \n",
      " 12  reviews.id            1 non-null      float64\n",
      " 13  reviews.numHelpful    34131 non-null  float64\n",
      " 14  reviews.rating        34627 non-null  float64\n",
      " 15  reviews.sourceURLs    34660 non-null  object \n",
      " 16  reviews.text          34659 non-null  object \n",
      " 17  reviews.title         34655 non-null  object \n",
      " 18  reviews.userCity      0 non-null      float64\n",
      " 19  reviews.userProvince  0 non-null      float64\n",
      " 20  reviews.username      34658 non-null  object \n",
      "dtypes: float64(5), object(16)\n",
      "memory usage: 5.6+ MB\n"
     ]
    }
   ],
   "source": [
    "data.info()"
   ]
  },
  {
   "cell_type": "code",
   "execution_count": 4,
   "metadata": {
    "execution": {
     "iopub.execute_input": "2021-02-26T02:55:45.560182Z",
     "iopub.status.busy": "2021-02-26T02:55:45.559122Z",
     "iopub.status.idle": "2021-02-26T02:55:45.563524Z",
     "shell.execute_reply": "2021-02-26T02:55:45.562966Z"
    },
    "papermill": {
     "duration": 0.033824,
     "end_time": "2021-02-26T02:55:45.563670",
     "exception": false,
     "start_time": "2021-02-26T02:55:45.529846",
     "status": "completed"
    },
    "tags": []
   },
   "outputs": [
    {
     "data": {
      "text/plain": [
       "array(['B01AHB9CN2', 'B00VINDBJK', 'B005PB2T0S', 'B002Y27P3M',\n",
       "       'B01AHB9CYG', 'B01AHB9C1E', 'B01J2G4VBG', 'B00ZV9PXP2',\n",
       "       'B0083Q04TA', 'B018Y229OU', 'B00REQKWGA', 'B00IOYAM4I',\n",
       "       'B018T075DC', nan, 'B00DU15MU4', 'B018Y225IA', 'B005PB2T2Q',\n",
       "       'B018Y23MNM', 'B00OQVZDJM', 'B00IOY8XWQ', 'B00LO29KXQ',\n",
       "       'B00QJDU3KY', 'B018Y22C2Y', 'B01BFIBRIE', 'B01J4ORNHU',\n",
       "       'B018SZT3BK', 'B00UH4D8G2', 'B018Y22BI4', 'B00TSUGXKE',\n",
       "       'B00L9EPT8O,B01E6AO69U', 'B018Y23P7K', 'B00X4WHP5E', 'B00QFQRELG',\n",
       "       'B00LW9XOJM', 'B00QL1ZN3G', 'B0189XYY0Q', 'B01BH83OOM',\n",
       "       'B00BFJAHF8', 'B00U3FPN4U', 'B002Y27P6Y', 'B006GWO5NE',\n",
       "       'B006GWO5WK'], dtype=object)"
      ]
     },
     "execution_count": 4,
     "metadata": {},
     "output_type": "execute_result"
    }
   ],
   "source": [
    "data[\"asins\"].unique()"
   ]
  },
  {
   "cell_type": "code",
   "execution_count": 5,
   "metadata": {
    "execution": {
     "iopub.execute_input": "2021-02-26T02:55:45.617196Z",
     "iopub.status.busy": "2021-02-26T02:55:45.616250Z",
     "iopub.status.idle": "2021-02-26T02:55:45.619684Z",
     "shell.execute_reply": "2021-02-26T02:55:45.620442Z"
    },
    "papermill": {
     "duration": 0.034213,
     "end_time": "2021-02-26T02:55:45.620684",
     "exception": false,
     "start_time": "2021-02-26T02:55:45.586471",
     "status": "completed"
    },
    "tags": []
   },
   "outputs": [
    {
     "name": "stdout",
     "output_type": "stream",
     "text": [
      "Number of Unique ASINs: 42\n"
     ]
    }
   ],
   "source": [
    "asins_unique = len(data[\"asins\"].unique())\n",
    "print(\"Number of Unique ASINs: \" + str(asins_unique))"
   ]
  },
  {
   "cell_type": "markdown",
   "metadata": {
    "papermill": {
     "duration": 0.021305,
     "end_time": "2021-02-26T02:55:45.665523",
     "exception": false,
     "start_time": "2021-02-26T02:55:45.644218",
     "status": "completed"
    },
    "tags": []
   },
   "source": [
    "# Visualizing the distributions of numerical variables:"
   ]
  },
  {
   "cell_type": "code",
   "execution_count": 6,
   "metadata": {
    "execution": {
     "iopub.execute_input": "2021-02-26T02:55:45.714192Z",
     "iopub.status.busy": "2021-02-26T02:55:45.713512Z",
     "iopub.status.idle": "2021-02-26T02:55:46.051679Z",
     "shell.execute_reply": "2021-02-26T02:55:46.051107Z"
    },
    "papermill": {
     "duration": 0.364465,
     "end_time": "2021-02-26T02:55:46.051825",
     "exception": false,
     "start_time": "2021-02-26T02:55:45.687360",
     "status": "completed"
    },
    "tags": []
   },
   "outputs": [
    {
     "data": {
      "image/png": "[encoded data removed]",
      "text/plain": [
       "<Figure size 1440x360 with 1 Axes>"
      ]
     },
     "metadata": {},
     "output_type": "display_data"
    }
   ],
   "source": [
    "data[\"reviews.numHelpful\"].hist(figsize=(20,5))\n",
    "plt.show()"
   ]
  },
  {
   "cell_type": "code",
   "execution_count": 7,
   "metadata": {
    "execution": {
     "iopub.execute_input": "2021-02-26T02:55:46.122737Z",
     "iopub.status.busy": "2021-02-26T02:55:46.119814Z",
     "iopub.status.idle": "2021-02-26T02:55:46.312469Z",
     "shell.execute_reply": "2021-02-26T02:55:46.311786Z"
    },
    "papermill": {
     "duration": 0.238571,
     "end_time": "2021-02-26T02:55:46.312618",
     "exception": false,
     "start_time": "2021-02-26T02:55:46.074047",
     "status": "completed"
    },
    "tags": []
   },
   "outputs": [
    {
     "data": {
      "image/png": "[encoded data removed]",
      "text/plain": [
       "<Figure size 1440x360 with 1 Axes>"
      ]
     },
     "metadata": {},
     "output_type": "display_data"
    }
   ],
   "source": [
    "data[\"reviews.id\"].hist( figsize=(20,5))\n",
    "plt.show()"
   ]
  },
  {
   "cell_type": "code",
   "execution_count": 8,
   "metadata": {
    "execution": {
     "iopub.execute_input": "2021-02-26T02:55:46.367115Z",
     "iopub.status.busy": "2021-02-26T02:55:46.366419Z",
     "iopub.status.idle": "2021-02-26T02:55:46.646854Z",
     "shell.execute_reply": "2021-02-26T02:55:46.646152Z"
    },
    "papermill": {
     "duration": 0.311126,
     "end_time": "2021-02-26T02:55:46.647020",
     "exception": false,
     "start_time": "2021-02-26T02:55:46.335894",
     "status": "completed"
    },
    "tags": []
   },
   "outputs": [
    {
     "data": {
      "image/png": "[encoded data removed]",
      "text/plain": [
       "<Figure size 1440x360 with 1 Axes>"
      ]
     },
     "metadata": {},
     "output_type": "display_data"
    }
   ],
   "source": [
    "plt.figure(figsize=(20,5))\n",
    "ax1=sns.countplot(x=\"reviews.rating\", data=data)\n",
    "for p in ax1.patches:\n",
    "    ax1.annotate(str(p.get_height()), (p.get_x() * 1.01 , p.get_height() * 1.01))\n",
    "plt.show()\n"
   ]
  },
  {
   "cell_type": "markdown",
   "metadata": {
    "papermill": {
     "duration": 0.024269,
     "end_time": "2021-02-26T02:55:46.696926",
     "exception": false,
     "start_time": "2021-02-26T02:55:46.672657",
     "status": "completed"
    },
    "tags": []
   },
   "source": [
    "# Split the data into Train and Test"
   ]
  },
  {
   "cell_type": "code",
   "execution_count": 9,
   "metadata": {
    "execution": {
     "iopub.execute_input": "2021-02-26T02:55:46.755222Z",
     "iopub.status.busy": "2021-02-26T02:55:46.754361Z",
     "iopub.status.idle": "2021-02-26T02:55:47.422729Z",
     "shell.execute_reply": "2021-02-26T02:55:47.421989Z"
    },
    "papermill": {
     "duration": 0.700622,
     "end_time": "2021-02-26T02:55:47.422879",
     "exception": false,
     "start_time": "2021-02-26T02:55:46.722257",
     "status": "completed"
    },
    "tags": []
   },
   "outputs": [
    {
     "name": "stdout",
     "output_type": "stream",
     "text": [
      "Before : 34660\n",
      "After  : 34627\n"
     ]
    }
   ],
   "source": [
    "from sklearn.model_selection import StratifiedShuffleSplit\n",
    "print(\"Before : {}\".format(len(data)))\n",
    "dataAfter = data.dropna(subset=[\"reviews.rating\"])\n",
    "# Removes all NAN in reviews.rating\n",
    "print(\"After  : {}\".format(len(dataAfter)))\n",
    "dataAfter[\"reviews.rating\"] = dataAfter[\"reviews.rating\"].astype(int)\n",
    "\n",
    "split = StratifiedShuffleSplit(n_splits=10, test_size=0.2)\n",
    "for train_index, test_index in split.split(dataAfter,\n",
    "                                           dataAfter[\"reviews.rating\"]):\n",
    "    strat_train = dataAfter.reindex(train_index)\n",
    "    strat_test = dataAfter.reindex(test_index)"
   ]
  },
  {
   "cell_type": "code",
   "execution_count": 10,
   "metadata": {
    "execution": {
     "iopub.execute_input": "2021-02-26T02:55:47.483163Z",
     "iopub.status.busy": "2021-02-26T02:55:47.482469Z",
     "iopub.status.idle": "2021-02-26T02:55:47.487735Z",
     "shell.execute_reply": "2021-02-26T02:55:47.488246Z"
    },
    "papermill": {
     "duration": 0.040395,
     "end_time": "2021-02-26T02:55:47.488442",
     "exception": false,
     "start_time": "2021-02-26T02:55:47.448047",
     "status": "completed"
    },
    "tags": []
   },
   "outputs": [
    {
     "name": "stdout",
     "output_type": "stream",
     "text": [
      "27701\n",
      "6926\n"
     ]
    },
    {
     "data": {
      "text/plain": [
       "5.0    68.81\n",
       "4.0    24.56\n",
       "3.0     4.09\n",
       "2.0     1.29\n",
       "1.0     1.17\n",
       "Name: reviews.rating, dtype: float64"
      ]
     },
     "execution_count": 10,
     "metadata": {},
     "output_type": "execute_result"
    }
   ],
   "source": [
    "print(len(strat_train))\n",
    "print(len(strat_test))\n",
    "round((strat_test[\"reviews.rating\"].value_counts()* 100/len(strat_test)),2)"
   ]
  },
  {
   "cell_type": "markdown",
   "metadata": {
    "papermill": {
     "duration": 0.025289,
     "end_time": "2021-02-26T02:55:47.539207",
     "exception": false,
     "start_time": "2021-02-26T02:55:47.513918",
     "status": "completed"
    },
    "tags": []
   },
   "source": [
    "# Data Exploration"
   ]
  },
  {
   "cell_type": "code",
   "execution_count": 11,
   "metadata": {
    "execution": {
     "iopub.execute_input": "2021-02-26T02:55:47.595119Z",
     "iopub.status.busy": "2021-02-26T02:55:47.594460Z",
     "iopub.status.idle": "2021-02-26T02:55:47.629203Z",
     "shell.execute_reply": "2021-02-26T02:55:47.628633Z"
    },
    "papermill": {
     "duration": 0.064832,
     "end_time": "2021-02-26T02:55:47.629390",
     "exception": false,
     "start_time": "2021-02-26T02:55:47.564558",
     "status": "completed"
    },
    "tags": []
   },
   "outputs": [
    {
     "data": {
      "text/html": [
       "<div>\n",
       "<style scoped>\n",
       "    .dataframe tbody tr th:only-of-type {\n",
       "        vertical-align: middle;\n",
       "    }\n",
       "\n",
       "    .dataframe tbody tr th {\n",
       "        vertical-align: top;\n",
       "    }\n",
       "\n",
       "    .dataframe thead th {\n",
       "        text-align: right;\n",
       "    }\n",
       "</style>\n",
       "<table border=\"1\" class=\"dataframe\">\n",
       "  <thead>\n",
       "    <tr style=\"text-align: right;\">\n",
       "      <th></th>\n",
       "      <th>id</th>\n",
       "      <th>name</th>\n",
       "      <th>asins</th>\n",
       "      <th>brand</th>\n",
       "      <th>categories</th>\n",
       "      <th>keys</th>\n",
       "      <th>manufacturer</th>\n",
       "      <th>reviews.date</th>\n",
       "      <th>reviews.dateAdded</th>\n",
       "      <th>reviews.dateSeen</th>\n",
       "      <th>...</th>\n",
       "      <th>reviews.doRecommend</th>\n",
       "      <th>reviews.id</th>\n",
       "      <th>reviews.numHelpful</th>\n",
       "      <th>reviews.rating</th>\n",
       "      <th>reviews.sourceURLs</th>\n",
       "      <th>reviews.text</th>\n",
       "      <th>reviews.title</th>\n",
       "      <th>reviews.userCity</th>\n",
       "      <th>reviews.userProvince</th>\n",
       "      <th>reviews.username</th>\n",
       "    </tr>\n",
       "  </thead>\n",
       "  <tbody>\n",
       "    <tr>\n",
       "      <th>27895</th>\n",
       "      <td>AVpfl8cLLJeJML43AE3S</td>\n",
       "      <td>New Amazon Kindle Fire Hd 9w Powerfast Adapter...</td>\n",
       "      <td>B00L9EPT8O,B01E6AO69U</td>\n",
       "      <td>Amazon</td>\n",
       "      <td>Stereos,Remote Controls,Amazon Echo,Audio Dock...</td>\n",
       "      <td>echowhite/263039693056,echowhite/152558276095,...</td>\n",
       "      <td>Amazon</td>\n",
       "      <td>2016-08-16T00:00:00.000Z</td>\n",
       "      <td>NaN</td>\n",
       "      <td>2017-09-28T00:00:00Z,2017-09-08T00:00:00Z,2017...</td>\n",
       "      <td>...</td>\n",
       "      <td>True</td>\n",
       "      <td>NaN</td>\n",
       "      <td>0.0</td>\n",
       "      <td>5.0</td>\n",
       "      <td>http://reviews.bestbuy.com/3545/5588528/review...</td>\n",
       "      <td>This is my new favorite device. While not perf...</td>\n",
       "      <td>My new favorite product</td>\n",
       "      <td>NaN</td>\n",
       "      <td>NaN</td>\n",
       "      <td>JefferyP</td>\n",
       "    </tr>\n",
       "    <tr>\n",
       "      <th>9252</th>\n",
       "      <td>AVphgVaX1cnluZ0-DR74</td>\n",
       "      <td>Fire Tablet, 7 Display, Wi-Fi, 8 GB - Includes...</td>\n",
       "      <td>B018Y229OU</td>\n",
       "      <td>Amazon</td>\n",
       "      <td>Fire Tablets,Tablets,Computers &amp; Tablets,All T...</td>\n",
       "      <td>firetablet7displaywifi8gbincludesspecialoffers...</td>\n",
       "      <td>Amazon</td>\n",
       "      <td>2017-01-06T00:00:00.000Z</td>\n",
       "      <td>2017-05-21T01:38:14Z</td>\n",
       "      <td>2017-04-30T00:12:00.000Z,2017-06-07T08:16:00.000Z</td>\n",
       "      <td>...</td>\n",
       "      <td>True</td>\n",
       "      <td>NaN</td>\n",
       "      <td>0.0</td>\n",
       "      <td>5.0</td>\n",
       "      <td>http://reviews.bestbuy.com/3545/5025800/review...</td>\n",
       "      <td>Bought this for reading but enjoy all the feat...</td>\n",
       "      <td>Awesome tablet</td>\n",
       "      <td>NaN</td>\n",
       "      <td>NaN</td>\n",
       "      <td>John</td>\n",
       "    </tr>\n",
       "    <tr>\n",
       "      <th>1955</th>\n",
       "      <td>AVqkIhwDv8e3D1O-lebb</td>\n",
       "      <td>All-New Fire HD 8 Tablet, 8 HD Display, Wi-Fi,...</td>\n",
       "      <td>B01AHB9CN2</td>\n",
       "      <td>Amazon</td>\n",
       "      <td>Electronics,iPad &amp; Tablets,All Tablets,Fire Ta...</td>\n",
       "      <td>841667104676,amazon/53004484,amazon/b01ahb9cn2...</td>\n",
       "      <td>Amazon</td>\n",
       "      <td>2017-01-25T00:00:00.000Z</td>\n",
       "      <td>2017-05-21T06:01:32Z</td>\n",
       "      <td>2017-04-30T00:44:00.000Z,2017-06-07T09:04:00.000Z</td>\n",
       "      <td>...</td>\n",
       "      <td>True</td>\n",
       "      <td>NaN</td>\n",
       "      <td>0.0</td>\n",
       "      <td>5.0</td>\n",
       "      <td>http://reviews.bestbuy.com/3545/5620406/review...</td>\n",
       "      <td>Excellent product. The screen is very easy to ...</td>\n",
       "      <td>Gave as a gift and they love it.</td>\n",
       "      <td>NaN</td>\n",
       "      <td>NaN</td>\n",
       "      <td>Cheryl</td>\n",
       "    </tr>\n",
       "    <tr>\n",
       "      <th>33173</th>\n",
       "      <td>AV1YE_muvKc47QAVgpwE</td>\n",
       "      <td>NaN</td>\n",
       "      <td>B00U3FPN4U</td>\n",
       "      <td>Amazon Fire Tv</td>\n",
       "      <td>Back To College,College Electronics,College Tv...</td>\n",
       "      <td>848719057492,amazonfiretv/51454342,amazonfiret...</td>\n",
       "      <td>Amazon</td>\n",
       "      <td>2016-10-20T00:00:00.000Z</td>\n",
       "      <td>2017-09-20T05:35:53Z</td>\n",
       "      <td>2017-08-25T22:04:57.994Z,2017-08-19T09:35:26.8...</td>\n",
       "      <td>...</td>\n",
       "      <td>True</td>\n",
       "      <td>NaN</td>\n",
       "      <td>0.0</td>\n",
       "      <td>4.0</td>\n",
       "      <td>http://reviews.bestbuy.com/3545/4370400/review...</td>\n",
       "      <td>i love the box better than the stick. For one ...</td>\n",
       "      <td>love the programming</td>\n",
       "      <td>NaN</td>\n",
       "      <td>NaN</td>\n",
       "      <td>ElTigre</td>\n",
       "    </tr>\n",
       "    <tr>\n",
       "      <th>14385</th>\n",
       "      <td>AVphgVaX1cnluZ0-DR74</td>\n",
       "      <td>Fire Tablet, 7 Display, Wi-Fi, 8 GB - Includes...</td>\n",
       "      <td>B018Y229OU</td>\n",
       "      <td>Amazon</td>\n",
       "      <td>Fire Tablets,Tablets,Computers &amp; Tablets,All T...</td>\n",
       "      <td>firetablet7displaywifi8gbincludesspecialoffers...</td>\n",
       "      <td>Amazon</td>\n",
       "      <td>2015-11-27T00:00:00.000Z</td>\n",
       "      <td>2017-05-21T04:07:12Z</td>\n",
       "      <td>2017-04-30T00:26:00.000Z,2017-06-07T08:10:00.000Z</td>\n",
       "      <td>...</td>\n",
       "      <td>True</td>\n",
       "      <td>NaN</td>\n",
       "      <td>1.0</td>\n",
       "      <td>5.0</td>\n",
       "      <td>http://reviews.bestbuy.com/3545/5025800/review...</td>\n",
       "      <td>Screen quality and size is good. Lightweight a...</td>\n",
       "      <td>reasonably priced tablet</td>\n",
       "      <td>NaN</td>\n",
       "      <td>NaN</td>\n",
       "      <td>glm216</td>\n",
       "    </tr>\n",
       "  </tbody>\n",
       "</table>\n",
       "<p>5 rows × 21 columns</p>\n",
       "</div>"
      ],
      "text/plain": [
       "                         id  \\\n",
       "27895  AVpfl8cLLJeJML43AE3S   \n",
       "9252   AVphgVaX1cnluZ0-DR74   \n",
       "1955   AVqkIhwDv8e3D1O-lebb   \n",
       "33173  AV1YE_muvKc47QAVgpwE   \n",
       "14385  AVphgVaX1cnluZ0-DR74   \n",
       "\n",
       "                                                    name  \\\n",
       "27895  New Amazon Kindle Fire Hd 9w Powerfast Adapter...   \n",
       "9252   Fire Tablet, 7 Display, Wi-Fi, 8 GB - Includes...   \n",
       "1955   All-New Fire HD 8 Tablet, 8 HD Display, Wi-Fi,...   \n",
       "33173                                                NaN   \n",
       "14385  Fire Tablet, 7 Display, Wi-Fi, 8 GB - Includes...   \n",
       "\n",
       "                       asins           brand  \\\n",
       "27895  B00L9EPT8O,B01E6AO69U          Amazon   \n",
       "9252              B018Y229OU          Amazon   \n",
       "1955              B01AHB9CN2          Amazon   \n",
       "33173             B00U3FPN4U  Amazon Fire Tv   \n",
       "14385             B018Y229OU          Amazon   \n",
       "\n",
       "                                              categories  \\\n",
       "27895  Stereos,Remote Controls,Amazon Echo,Audio Dock...   \n",
       "9252   Fire Tablets,Tablets,Computers & Tablets,All T...   \n",
       "1955   Electronics,iPad & Tablets,All Tablets,Fire Ta...   \n",
       "33173  Back To College,College Electronics,College Tv...   \n",
       "14385  Fire Tablets,Tablets,Computers & Tablets,All T...   \n",
       "\n",
       "                                                    keys manufacturer  \\\n",
       "27895  echowhite/263039693056,echowhite/152558276095,...       Amazon   \n",
       "9252   firetablet7displaywifi8gbincludesspecialoffers...       Amazon   \n",
       "1955   841667104676,amazon/53004484,amazon/b01ahb9cn2...       Amazon   \n",
       "33173  848719057492,amazonfiretv/51454342,amazonfiret...       Amazon   \n",
       "14385  firetablet7displaywifi8gbincludesspecialoffers...       Amazon   \n",
       "\n",
       "                   reviews.date     reviews.dateAdded  \\\n",
       "27895  2016-08-16T00:00:00.000Z                   NaN   \n",
       "9252   2017-01-06T00:00:00.000Z  2017-05-21T01:38:14Z   \n",
       "1955   2017-01-25T00:00:00.000Z  2017-05-21T06:01:32Z   \n",
       "33173  2016-10-20T00:00:00.000Z  2017-09-20T05:35:53Z   \n",
       "14385  2015-11-27T00:00:00.000Z  2017-05-21T04:07:12Z   \n",
       "\n",
       "                                        reviews.dateSeen  ...  \\\n",
       "27895  2017-09-28T00:00:00Z,2017-09-08T00:00:00Z,2017...  ...   \n",
       "9252   2017-04-30T00:12:00.000Z,2017-06-07T08:16:00.000Z  ...   \n",
       "1955   2017-04-30T00:44:00.000Z,2017-06-07T09:04:00.000Z  ...   \n",
       "33173  2017-08-25T22:04:57.994Z,2017-08-19T09:35:26.8...  ...   \n",
       "14385  2017-04-30T00:26:00.000Z,2017-06-07T08:10:00.000Z  ...   \n",
       "\n",
       "      reviews.doRecommend reviews.id  reviews.numHelpful  reviews.rating  \\\n",
       "27895                True        NaN                 0.0             5.0   \n",
       "9252                 True        NaN                 0.0             5.0   \n",
       "1955                 True        NaN                 0.0             5.0   \n",
       "33173                True        NaN                 0.0             4.0   \n",
       "14385                True        NaN                 1.0             5.0   \n",
       "\n",
       "                                      reviews.sourceURLs  \\\n",
       "27895  http://reviews.bestbuy.com/3545/5588528/review...   \n",
       "9252   http://reviews.bestbuy.com/3545/5025800/review...   \n",
       "1955   http://reviews.bestbuy.com/3545/5620406/review...   \n",
       "33173  http://reviews.bestbuy.com/3545/4370400/review...   \n",
       "14385  http://reviews.bestbuy.com/3545/5025800/review...   \n",
       "\n",
       "                                            reviews.text  \\\n",
       "27895  This is my new favorite device. While not perf...   \n",
       "9252   Bought this for reading but enjoy all the feat...   \n",
       "1955   Excellent product. The screen is very easy to ...   \n",
       "33173  i love the box better than the stick. For one ...   \n",
       "14385  Screen quality and size is good. Lightweight a...   \n",
       "\n",
       "                          reviews.title reviews.userCity  \\\n",
       "27895           My new favorite product              NaN   \n",
       "9252                     Awesome tablet              NaN   \n",
       "1955   Gave as a gift and they love it.              NaN   \n",
       "33173              love the programming              NaN   \n",
       "14385          reasonably priced tablet              NaN   \n",
       "\n",
       "       reviews.userProvince  reviews.username  \n",
       "27895                   NaN          JefferyP  \n",
       "9252                    NaN              John  \n",
       "1955                    NaN            Cheryl  \n",
       "33173                   NaN           ElTigre  \n",
       "14385                   NaN            glm216  \n",
       "\n",
       "[5 rows x 21 columns]"
      ]
     },
     "execution_count": 11,
     "metadata": {},
     "output_type": "execute_result"
    }
   ],
   "source": [
    "reviews = strat_train.copy()\n",
    "reviews.head()"
   ]
  },
  {
   "cell_type": "code",
   "execution_count": 12,
   "metadata": {
    "execution": {
     "iopub.execute_input": "2021-02-26T02:55:47.694613Z",
     "iopub.status.busy": "2021-02-26T02:55:47.693859Z",
     "iopub.status.idle": "2021-02-26T02:55:47.699270Z",
     "shell.execute_reply": "2021-02-26T02:55:47.698712Z"
    },
    "papermill": {
     "duration": 0.042158,
     "end_time": "2021-02-26T02:55:47.699449",
     "exception": false,
     "start_time": "2021-02-26T02:55:47.657291",
     "status": "completed"
    },
    "tags": []
   },
   "outputs": [
    {
     "data": {
      "text/plain": [
       "47"
      ]
     },
     "execution_count": 12,
     "metadata": {},
     "output_type": "execute_result"
    }
   ],
   "source": [
    "len(reviews[\"name\"].unique())"
   ]
  },
  {
   "cell_type": "code",
   "execution_count": 13,
   "metadata": {
    "execution": {
     "iopub.execute_input": "2021-02-26T02:55:47.763626Z",
     "iopub.status.busy": "2021-02-26T02:55:47.762823Z",
     "iopub.status.idle": "2021-02-26T02:55:47.767997Z",
     "shell.execute_reply": "2021-02-26T02:55:47.767298Z"
    },
    "papermill": {
     "duration": 0.041238,
     "end_time": "2021-02-26T02:55:47.768157",
     "exception": false,
     "start_time": "2021-02-26T02:55:47.726919",
     "status": "completed"
    },
    "tags": []
   },
   "outputs": [
    {
     "data": {
      "text/plain": [
       "36"
      ]
     },
     "execution_count": 13,
     "metadata": {},
     "output_type": "execute_result"
    }
   ],
   "source": [
    "len(reviews[\"asins\"].unique())"
   ]
  },
  {
   "cell_type": "code",
   "execution_count": 14,
   "metadata": {
    "execution": {
     "iopub.execute_input": "2021-02-26T02:55:47.876238Z",
     "iopub.status.busy": "2021-02-26T02:55:47.828542Z",
     "iopub.status.idle": "2021-02-26T02:55:47.890590Z",
     "shell.execute_reply": "2021-02-26T02:55:47.889875Z"
    },
    "papermill": {
     "duration": 0.095042,
     "end_time": "2021-02-26T02:55:47.890738",
     "exception": false,
     "start_time": "2021-02-26T02:55:47.795696",
     "status": "completed"
    },
    "tags": []
   },
   "outputs": [
    {
     "name": "stdout",
     "output_type": "stream",
     "text": [
      "<class 'pandas.core.frame.DataFrame'>\n",
      "Int64Index: 27701 entries, 27895 to 27018\n",
      "Data columns (total 21 columns):\n",
      " #   Column                Non-Null Count  Dtype  \n",
      "---  ------                --------------  -----  \n",
      " 0   id                    27674 non-null  object \n",
      " 1   name                  22303 non-null  object \n",
      " 2   asins                 27672 non-null  object \n",
      " 3   brand                 27674 non-null  object \n",
      " 4   categories            27674 non-null  object \n",
      " 5   keys                  27674 non-null  object \n",
      " 6   manufacturer          27674 non-null  object \n",
      " 7   reviews.date          27651 non-null  object \n",
      " 8   reviews.dateAdded     19237 non-null  object \n",
      " 9   reviews.dateSeen      27674 non-null  object \n",
      " 10  reviews.didPurchase   1 non-null      object \n",
      " 11  reviews.doRecommend   27239 non-null  object \n",
      " 12  reviews.id            1 non-null      float64\n",
      " 13  reviews.numHelpful    27291 non-null  float64\n",
      " 14  reviews.rating        27674 non-null  float64\n",
      " 15  reviews.sourceURLs    27674 non-null  object \n",
      " 16  reviews.text          27673 non-null  object \n",
      " 17  reviews.title         27671 non-null  object \n",
      " 18  reviews.userCity      0 non-null      float64\n",
      " 19  reviews.userProvince  0 non-null      float64\n",
      " 20  reviews.username      27673 non-null  object \n",
      "dtypes: float64(5), object(16)\n",
      "memory usage: 4.6+ MB\n"
     ]
    }
   ],
   "source": [
    "reviews.info()"
   ]
  },
  {
   "cell_type": "code",
   "execution_count": 15,
   "metadata": {
    "execution": {
     "iopub.execute_input": "2021-02-26T02:55:47.957896Z",
     "iopub.status.busy": "2021-02-26T02:55:47.955703Z",
     "iopub.status.idle": "2021-02-26T02:55:47.980249Z",
     "shell.execute_reply": "2021-02-26T02:55:47.980781Z"
    },
    "papermill": {
     "duration": 0.062214,
     "end_time": "2021-02-26T02:55:47.980960",
     "exception": false,
     "start_time": "2021-02-26T02:55:47.918746",
     "status": "completed"
    },
    "tags": []
   },
   "outputs": [
    {
     "data": {
      "text/plain": [
       "asins\n",
       "B005PB2T0S               [Kindle Keyboard,,,\\r\\nKindle Keyboard,,,, Ama...\n",
       "B005PB2T2Q               [Fire Kids Edition Tablet, 7 Display, Wi-Fi, 1...\n",
       "B00DU15MU4               [Brand New Amazon Kindle Fire 16gb 7 Ips Displ...\n",
       "B00IOY8XWQ               [Kindle Paperwhite E-reader - White, 6 High-Re...\n",
       "B00IOYAM4I               [Brand New Amazon Kindle Fire 16gb 7 Ips Displ...\n",
       "B00L9EPT8O,B01E6AO69U    [New Amazon Kindle Fire Hd 9w Powerfast Adapte...\n",
       "B00LO29KXQ               [Fire Tablet, 7 Display, Wi-Fi, 8 GB - Include...\n",
       "B00LW9XOJM                                                           [nan]\n",
       "B00OQVZDJM               [Amazon Kindle Paperwhite - eBook reader - 4 G...\n",
       "B00QFQRELG                                                           [nan]\n",
       "B00QJDU3KY               [Fire Tablet, 7 Display, Wi-Fi, 8 GB - Include...\n",
       "B00QL1ZN3G                                                           [nan]\n",
       "B00REQKWGA               [Brand New Amazon Kindle Fire 16gb 7 Ips Displ...\n",
       "B00TSUGXKE                            [Echo (White),,,\\r\\nEcho (White),,,]\n",
       "B00U3FPN4U                                                           [nan]\n",
       "B00UH4D8G2                            [Echo (White),,,\\r\\nEcho (White),,,]\n",
       "B00VINDBJK               [Kindle Oasis E-reader with Leather Charging C...\n",
       "B00X4WHP5E                                                           [nan]\n",
       "B00ZV9PXP2               [Fire Tablet, 7 Display, Wi-Fi, 8 GB - Include...\n",
       "B0189XYY0Q                                                           [nan]\n",
       "B018SZT3BK               [Fire Tablet, 7 Display, Wi-Fi, 8 GB - Include...\n",
       "B018T075DC               [Brand New Amazon Kindle Fire 16gb 7 Ips Displ...\n",
       "B018Y225IA               [Brand New Amazon Kindle Fire 16gb 7 Ips Displ...\n",
       "B018Y229OU               [Fire Tablet, 7 Display, Wi-Fi, 8 GB - Include...\n",
       "B018Y22BI4                            [Echo (White),,,\\r\\nEcho (White),,,]\n",
       "B018Y22C2Y               [Fire Tablet, 7 Display, Wi-Fi, 8 GB - Include...\n",
       "B018Y23MNM               [Amazon Kindle Paperwhite - eBook reader - 4 G...\n",
       "B018Y23P7K                                                           [nan]\n",
       "B01AHB9C1E               [Amazon 5W USB Official OEM Charger and Power ...\n",
       "B01AHB9CN2               [All-New Fire HD 8 Tablet, 8 HD Display, Wi-Fi...\n",
       "B01AHB9CYG               [All-New Fire HD 8 Tablet, 8 HD Display, Wi-Fi...\n",
       "B01BFIBRIE               [Fire Tablet, 7 Display, Wi-Fi, 8 GB - Include...\n",
       "B01BH83OOM                                                           [nan]\n",
       "B01J2G4VBG               [Amazon 5W USB Official OEM Charger and Power ...\n",
       "B01J4ORNHU               [Fire Tablet, 7 Display, Wi-Fi, 8 GB - Include...\n",
       "Name: name, dtype: object"
      ]
     },
     "execution_count": 15,
     "metadata": {},
     "output_type": "execute_result"
    }
   ],
   "source": [
    "reviews.groupby(\"asins\")[\"name\"].unique()"
   ]
  },
  {
   "cell_type": "code",
   "execution_count": 16,
   "metadata": {
    "execution": {
     "iopub.execute_input": "2021-02-26T02:55:48.048300Z",
     "iopub.status.busy": "2021-02-26T02:55:48.047592Z",
     "iopub.status.idle": "2021-02-26T02:55:48.060059Z",
     "shell.execute_reply": "2021-02-26T02:55:48.060641Z"
    },
    "papermill": {
     "duration": 0.05137,
     "end_time": "2021-02-26T02:55:48.060828",
     "exception": false,
     "start_time": "2021-02-26T02:55:48.009458",
     "status": "completed"
    },
    "tags": []
   },
   "outputs": [
    {
     "name": "stdout",
     "output_type": "stream",
     "text": [
      "New Amazon Kindle Fire Hd 9w Powerfast Adapter Charger + Micro Usb Angle Cable,,,\r\n",
      "New Amazon Kindle Fire Hd 9w Powerfast Adapter Charger + Micro Usb Angle Cable,,,\n",
      "Amazon - Amazon Tap Portable Bluetooth and Wi-Fi Speaker - Black,,,\r\n",
      "Amazon - Amazon Tap Portable Bluetooth and Wi-Fi Speaker - Black,,,\n",
      "Amazon Fire Tv,,,\r\n",
      "Amazon Fire Tv,,,\n",
      "Echo (White),,,\r\n",
      "Echo (White),,,\n",
      "nan\n",
      "Kindle Dx Leather Cover, Black (fits 9.7 Display, Latest and 2nd Generation Kindle Dxs),,\n",
      "Amazon 9W PowerFast Official OEM USB Charger and Power Adapter for Fire Tablets and Kindle eReaders,,,\r\n",
      "Amazon 9W PowerFast Official OEM USB Charger and Power Adapter for Fire Tablets and Kindle eReaders,,,\n",
      "Amazon Fire Hd 10 Tablet, Wi-Fi, 16 Gb, Special Offers - Silver Aluminum,,,\r\n",
      "Amazon Fire Hd 10 Tablet, Wi-Fi, 16 Gb, Special Offers - Silver Aluminum,,,\n",
      "Amazon Kindle Fire 5ft USB to Micro-USB Cable (works with most Micro-USB Tablets),,,\r\n",
      "Amazon Kindle Fire 5ft USB to Micro-USB Cable (works with most Micro-USB Tablets),,,\n",
      "Echo (White),,,\r\n",
      "Fire Tablet, 7 Display, Wi-Fi, 8 GB - Includes Special Offers, Tangerine\"\n",
      "Amazon Fire Hd 6 Standing Protective Case(4th Generation - 2014 Release), Cayenne Red,,,\r\n",
      "Amazon Fire Hd 6 Standing Protective Case(4th Generation - 2014 Release), Cayenne Red,,,\n",
      "Echo (Black),,,\r\n",
      "Amazon 9W PowerFast Official OEM USB Charger and Power Adapter for Fire Tablets and Kindle eReaders,,,\n",
      "Amazon 5W USB Official OEM Charger and Power Adapter for Fire Tablets and Kindle eReaders,,,\r\n",
      "Amazon 5W USB Official OEM Charger and Power Adapter for Fire Tablets and Kindle eReaders,,,\n",
      "Amazon Fire Hd 6 Standing Protective Case(4th Generation - 2014 Release), Cayenne Red,,,\r\n",
      "Amazon 5W USB Official OEM Charger and Power Adapter for Fire Tablets and Kindle eReaders,,,\n",
      "Amazon Fire Tv,,,\r\n",
      "Kindle Dx Leather Cover, Black (fits 9.7 Display, Latest and 2nd Generation Kindle Dxs)\",,\n",
      "Echo (Black),,,\r\n",
      "Echo (Black),,,\n"
     ]
    }
   ],
   "source": [
    "different_names = reviews[reviews[\"asins\"] ==\n",
    "                          \"B00L9EPT8O,B01E6AO69U\"][\"name\"].unique()\n",
    "for name in different_names:\n",
    "    print(name)\n"
   ]
  },
  {
   "cell_type": "code",
   "execution_count": 17,
   "metadata": {
    "execution": {
     "iopub.execute_input": "2021-02-26T02:55:48.130800Z",
     "iopub.status.busy": "2021-02-26T02:55:48.130057Z",
     "iopub.status.idle": "2021-02-26T02:55:48.141868Z",
     "shell.execute_reply": "2021-02-26T02:55:48.141300Z"
    },
    "papermill": {
     "duration": 0.052089,
     "end_time": "2021-02-26T02:55:48.142021",
     "exception": false,
     "start_time": "2021-02-26T02:55:48.089932",
     "status": "completed"
    },
    "tags": []
   },
   "outputs": [
    {
     "data": {
      "text/plain": [
       "Echo (White),,,\\r\\nEcho (White),,,                                                                                                                                                                                  2299\n",
       "Amazon Fire Tv,,,\\r\\nAmazon Fire Tv,,,                                                                                                                                                                              2021\n",
       "Amazon - Amazon Tap Portable Bluetooth and Wi-Fi Speaker - Black,,,\\r\\nAmazon - Amazon Tap Portable Bluetooth and Wi-Fi Speaker - Black,,,                                                                           262\n",
       "Amazon Fire Hd 10 Tablet, Wi-Fi, 16 Gb, Special Offers - Silver Aluminum,,,\\r\\nAmazon Fire Hd 10 Tablet, Wi-Fi, 16 Gb, Special Offers - Silver Aluminum,,,                                                           102\n",
       "Amazon 9W PowerFast Official OEM USB Charger and Power Adapter for Fire Tablets and Kindle eReaders,,,\\r\\nAmazon 9W PowerFast Official OEM USB Charger and Power Adapter for Fire Tablets and Kindle eReaders,,,      29\n",
       "Kindle Dx Leather Cover, Black (fits 9.7 Display, Latest and 2nd Generation Kindle Dxs),,                                                                                                                              8\n",
       "Amazon Fire Hd 6 Standing Protective Case(4th Generation - 2014 Release), Cayenne Red,,,\\r\\nAmazon Fire Hd 6 Standing Protective Case(4th Generation - 2014 Release), Cayenne Red,,,                                   6\n",
       "Amazon 5W USB Official OEM Charger and Power Adapter for Fire Tablets and Kindle eReaders,,,\\r\\nAmazon 5W USB Official OEM Charger and Power Adapter for Fire Tablets and Kindle eReaders,,,                           6\n",
       "New Amazon Kindle Fire Hd 9w Powerfast Adapter Charger + Micro Usb Angle Cable,,,\\r\\nNew Amazon Kindle Fire Hd 9w Powerfast Adapter Charger + Micro Usb Angle Cable,,,                                                 4\n",
       "Amazon Kindle Fire 5ft USB to Micro-USB Cable (works with most Micro-USB Tablets),,,\\r\\nAmazon Kindle Fire 5ft USB to Micro-USB Cable (works with most Micro-USB Tablets),,,                                           3\n",
       "Amazon Fire Hd 6 Standing Protective Case(4th Generation - 2014 Release), Cayenne Red,,,\\r\\nAmazon 5W USB Official OEM Charger and Power Adapter for Fire Tablets and Kindle eReaders,,,                               1\n",
       "Echo (Black),,,\\r\\nEcho (Black),,,                                                                                                                                                                                     1\n",
       "Echo (Black),,,\\r\\nAmazon 9W PowerFast Official OEM USB Charger and Power Adapter for Fire Tablets and Kindle eReaders,,,                                                                                              1\n",
       "Echo (White),,,\\r\\nFire Tablet, 7 Display, Wi-Fi, 8 GB - Includes Special Offers, Tangerine\"                                                                                                                           1\n",
       "Amazon Fire Tv,,,\\r\\nKindle Dx Leather Cover, Black (fits 9.7 Display, Latest and 2nd Generation Kindle Dxs)\",,                                                                                                        1\n",
       "Name: name, dtype: int64"
      ]
     },
     "execution_count": 17,
     "metadata": {},
     "output_type": "execute_result"
    }
   ],
   "source": [
    "reviews[reviews[\"asins\"] == \"B00L9EPT8O,B01E6AO69U\"][\"name\"].value_counts()"
   ]
  },
  {
   "cell_type": "code",
   "execution_count": 18,
   "metadata": {
    "execution": {
     "iopub.execute_input": "2021-02-26T02:55:48.210373Z",
     "iopub.status.busy": "2021-02-26T02:55:48.209691Z",
     "iopub.status.idle": "2021-02-26T02:55:49.612238Z",
     "shell.execute_reply": "2021-02-26T02:55:49.612741Z"
    },
    "papermill": {
     "duration": 1.441169,
     "end_time": "2021-02-26T02:55:49.612930",
     "exception": false,
     "start_time": "2021-02-26T02:55:48.171761",
     "status": "completed"
    },
    "tags": []
   },
   "outputs": [
    {
     "data": {
      "image/png": "[encoded data removed]",
      "text/plain": [
       "<Figure size 1152x720 with 2 Axes>"
      ]
     },
     "metadata": {},
     "output_type": "display_data"
    }
   ],
   "source": [
    "fig = plt.figure(figsize=(16,10))\n",
    "ax1 = plt.subplot(211)\n",
    "ax2 = plt.subplot(212, sharex = ax1)\n",
    "reviews[\"asins\"].value_counts().plot(kind=\"bar\", ax=ax1, title=\"ASIN Frequency\")\n",
    "np.log10(reviews[\"asins\"].value_counts()).plot(kind=\"bar\", ax=ax2,\n",
    "                                               title=\"ASIN Frequency (Log10 Adjusted)\")\n",
    "for p in ax1.patches:\n",
    "    ax1.annotate(str(p.get_height()), (p.get_x() * 1.01 , p.get_height() * 1.01))\n",
    "for p in ax2.patches:\n",
    "    ax2.annotate(str(round((p.get_height()),2)), (p.get_x() * 1.01 , p.get_height() * 1.01))\n",
    "plt.show()"
   ]
  },
  {
   "cell_type": "markdown",
   "metadata": {
    "papermill": {
     "duration": 0.032159,
     "end_time": "2021-02-26T02:55:49.678154",
     "exception": false,
     "start_time": "2021-02-26T02:55:49.645995",
     "status": "completed"
    },
    "tags": []
   },
   "source": [
    "# Entire training dataset average rating"
   ]
  },
  {
   "cell_type": "code",
   "execution_count": 19,
   "metadata": {
    "execution": {
     "iopub.execute_input": "2021-02-26T02:55:49.749903Z",
     "iopub.status.busy": "2021-02-26T02:55:49.749205Z",
     "iopub.status.idle": "2021-02-26T02:55:49.753354Z",
     "shell.execute_reply": "2021-02-26T02:55:49.753898Z"
    },
    "papermill": {
     "duration": 0.043743,
     "end_time": "2021-02-26T02:55:49.754082",
     "exception": false,
     "start_time": "2021-02-26T02:55:49.710339",
     "status": "completed"
    },
    "tags": []
   },
   "outputs": [
    {
     "data": {
      "text/plain": [
       "4.585278600852786"
      ]
     },
     "execution_count": 19,
     "metadata": {},
     "output_type": "execute_result"
    }
   ],
   "source": [
    "reviews[\"reviews.rating\"].mean()"
   ]
  },
  {
   "cell_type": "code",
   "execution_count": 20,
   "metadata": {
    "execution": {
     "iopub.execute_input": "2021-02-26T02:55:49.860334Z",
     "iopub.status.busy": "2021-02-26T02:55:49.841828Z",
     "iopub.status.idle": "2021-02-26T02:55:50.604126Z",
     "shell.execute_reply": "2021-02-26T02:55:50.604611Z"
    },
    "papermill": {
     "duration": 0.816921,
     "end_time": "2021-02-26T02:55:50.604800",
     "exception": false,
     "start_time": "2021-02-26T02:55:49.787879",
     "status": "completed"
    },
    "tags": []
   },
   "outputs": [
    {
     "data": {
      "image/png": "[encoded data removed]",
      "text/plain": [
       "<Figure size 1152x360 with 1 Axes>"
      ]
     },
     "metadata": {},
     "output_type": "display_data"
    }
   ],
   "source": [
    "asins_count_ix = reviews[\"asins\"].value_counts().index\n",
    "fig = plt.figure(figsize=(16,5))\n",
    "ax=reviews[\"asins\"].value_counts().plot(kind=\"bar\", title=\"ASIN Frequency\")\n",
    "for p in ax.patches:\n",
    "    ax.annotate(str(p.get_height()), (p.get_x() * 1.01 , p.get_height() * 1.01))\n",
    "plt.xticks(rotation=90)\n",
    "plt.show()"
   ]
  },
  {
   "cell_type": "code",
   "execution_count": 21,
   "metadata": {
    "execution": {
     "iopub.execute_input": "2021-02-26T02:55:50.689369Z",
     "iopub.status.busy": "2021-02-26T02:55:50.688656Z",
     "iopub.status.idle": "2021-02-26T02:55:52.399917Z",
     "shell.execute_reply": "2021-02-26T02:55:52.398703Z"
    },
    "papermill": {
     "duration": 1.760943,
     "end_time": "2021-02-26T02:55:52.400173",
     "exception": false,
     "start_time": "2021-02-26T02:55:50.639230",
     "status": "completed"
    },
    "tags": []
   },
   "outputs": [
    {
     "data": {
      "image/png": "[encoded data removed]",
      "text/plain": [
       "<Figure size 1152x360 with 1 Axes>"
      ]
     },
     "metadata": {},
     "output_type": "display_data"
    }
   ],
   "source": [
    "fig = plt.figure(figsize=(16,5))\n",
    "sns.pointplot(x=\"asins\", y=\"reviews.rating\", order=asins_count_ix, data=reviews)\n",
    "plt.xticks(rotation=90)\n",
    "plt.show()"
   ]
  },
  {
   "cell_type": "markdown",
   "metadata": {
    "papermill": {
     "duration": 0.037896,
     "end_time": "2021-02-26T02:55:52.481642",
     "exception": false,
     "start_time": "2021-02-26T02:55:52.443746",
     "status": "completed"
    },
    "tags": []
   },
   "source": [
    "# Sentiment Analysis"
   ]
  },
  {
   "cell_type": "code",
   "execution_count": 22,
   "metadata": {
    "execution": {
     "iopub.execute_input": "2021-02-26T02:55:52.595066Z",
     "iopub.status.busy": "2021-02-26T02:55:52.592551Z",
     "iopub.status.idle": "2021-02-26T02:55:52.599618Z",
     "shell.execute_reply": "2021-02-26T02:55:52.598918Z"
    },
    "papermill": {
     "duration": 0.081186,
     "end_time": "2021-02-26T02:55:52.599778",
     "exception": false,
     "start_time": "2021-02-26T02:55:52.518592",
     "status": "completed"
    },
    "tags": []
   },
   "outputs": [
    {
     "name": "stdout",
     "output_type": "stream",
     "text": [
      "27895    Positive\n",
      "9252     Positive\n",
      "1955     Positive\n",
      "33173    Positive\n",
      "14385    Positive\n",
      "11337    Positive\n",
      "25289    Positive\n",
      "11280    Positive\n",
      "9329     Positive\n",
      "11394    Positive\n",
      "27278    Positive\n",
      "14660    Positive\n",
      "23561    Positive\n",
      "21529     Neutral\n",
      "1087     Positive\n",
      "Name: Sentiment, dtype: object\n"
     ]
    }
   ],
   "source": [
    "def sentiments(rating):\n",
    "    if (rating == 5) or (rating == 4):\n",
    "        return \"Positive\"\n",
    "    elif rating == 3:\n",
    "        return \"Neutral\"\n",
    "    elif (rating == 2) or (rating == 1):\n",
    "        return \"Negative\"\n",
    "# Add sentiments to the data\n",
    "strat_train[\"Sentiment\"] = strat_train[\"reviews.rating\"].apply(sentiments)\n",
    "strat_test[\"Sentiment\"] = strat_test[\"reviews.rating\"].apply(sentiments)\n",
    "print(strat_train[\"Sentiment\"][:15])"
   ]
  },
  {
   "cell_type": "code",
   "execution_count": 23,
   "metadata": {
    "execution": {
     "iopub.execute_input": "2021-02-26T02:55:52.692021Z",
     "iopub.status.busy": "2021-02-26T02:55:52.691081Z",
     "iopub.status.idle": "2021-02-26T02:55:52.703651Z",
     "shell.execute_reply": "2021-02-26T02:55:52.703043Z"
    },
    "papermill": {
     "duration": 0.066164,
     "end_time": "2021-02-26T02:55:52.703802",
     "exception": false,
     "start_time": "2021-02-26T02:55:52.637638",
     "status": "completed"
    },
    "tags": []
   },
   "outputs": [
    {
     "data": {
      "text/plain": [
       "Positive    93.24\n",
       "Neutral      4.38\n",
       "Negative     2.28\n",
       "Name: Sentiment, dtype: float64"
      ]
     },
     "execution_count": 23,
     "metadata": {},
     "output_type": "execute_result"
    }
   ],
   "source": [
    "round((strat_train[\"Sentiment\"].value_counts()*100/len(strat_train)),2)"
   ]
  },
  {
   "cell_type": "code",
   "execution_count": 24,
   "metadata": {
    "execution": {
     "iopub.execute_input": "2021-02-26T02:55:52.786730Z",
     "iopub.status.busy": "2021-02-26T02:55:52.785737Z",
     "iopub.status.idle": "2021-02-26T02:55:52.970620Z",
     "shell.execute_reply": "2021-02-26T02:55:52.970030Z"
    },
    "papermill": {
     "duration": 0.22645,
     "end_time": "2021-02-26T02:55:52.970786",
     "exception": false,
     "start_time": "2021-02-26T02:55:52.744336",
     "status": "completed"
    },
    "tags": []
   },
   "outputs": [
    {
     "data": {
      "image/png": "[encoded data removed]",
      "text/plain": [
       "<Figure size 1152x360 with 1 Axes>"
      ]
     },
     "metadata": {},
     "output_type": "display_data"
    }
   ],
   "source": [
    "fig = plt.figure(figsize=(16,5))\n",
    "ax=strat_train[\"Sentiment\"].value_counts().plot(kind=\"bar\", title=\"Train Data Sentimental Data\")\n",
    "for p in ax.patches:\n",
    "    ax.annotate(str(p.get_height()), (p.get_x() * 1.01 , p.get_height() * 1.01))\n",
    "plt.show()"
   ]
  },
  {
   "cell_type": "code",
   "execution_count": 25,
   "metadata": {
    "execution": {
     "iopub.execute_input": "2021-02-26T02:55:53.058514Z",
     "iopub.status.busy": "2021-02-26T02:55:53.055146Z",
     "iopub.status.idle": "2021-02-26T02:55:53.063783Z",
     "shell.execute_reply": "2021-02-26T02:55:53.064283Z"
    },
    "papermill": {
     "duration": 0.055412,
     "end_time": "2021-02-26T02:55:53.064508",
     "exception": false,
     "start_time": "2021-02-26T02:55:53.009096",
     "status": "completed"
    },
    "tags": []
   },
   "outputs": [
    {
     "data": {
      "text/plain": [
       "Positive    93.37\n",
       "Neutral      4.09\n",
       "Negative     2.45\n",
       "Name: Sentiment, dtype: float64"
      ]
     },
     "execution_count": 25,
     "metadata": {},
     "output_type": "execute_result"
    }
   ],
   "source": [
    "round((strat_test[\"Sentiment\"].value_counts()*100/len(strat_test)),2)"
   ]
  },
  {
   "cell_type": "code",
   "execution_count": 26,
   "metadata": {
    "execution": {
     "iopub.execute_input": "2021-02-26T02:55:53.157047Z",
     "iopub.status.busy": "2021-02-26T02:55:53.152875Z",
     "iopub.status.idle": "2021-02-26T02:55:53.433456Z",
     "shell.execute_reply": "2021-02-26T02:55:53.432805Z"
    },
    "papermill": {
     "duration": 0.328034,
     "end_time": "2021-02-26T02:55:53.433604",
     "exception": false,
     "start_time": "2021-02-26T02:55:53.105570",
     "status": "completed"
    },
    "tags": []
   },
   "outputs": [
    {
     "data": {
      "image/png": "[encoded data removed]",
      "text/plain": [
       "<Figure size 1152x360 with 1 Axes>"
      ]
     },
     "metadata": {},
     "output_type": "display_data"
    }
   ],
   "source": [
    "fig = plt.figure(figsize=(16,5))\n",
    "ax=strat_test[\"Sentiment\"].value_counts().plot(kind=\"bar\", title=\"Test Data Sentimental Data\")\n",
    "for p in ax.patches:\n",
    "    ax.annotate(str(p.get_height()), (p.get_x() * 1.01 , p.get_height() * 1.01))\n",
    "plt.show()"
   ]
  }
 ],
 "metadata": {
  "kernelspec": {
   "display_name": "Python 3",
   "language": "python",
   "name": "python3"
  },
  "language_info": {
   "codemirror_mode": {
    "name": "ipython",
    "version": 3
   },
   "file_extension": ".py",
   "mimetype": "text/x-python",
   "name": "python",
   "nbconvert_exporter": "python",
   "pygments_lexer": "ipython3",
   "version": "3.7.9"
  },
  "papermill": {
   "default_parameters": {},
   "duration": 17.154357,
   "end_time": "2021-02-26T02:55:54.183247",
   "environment_variables": {},
   "exception": null,
   "input_path": "__notebook__.ipynb",
   "output_path": "__notebook__.ipynb",
   "parameters": {},
   "start_time": "2021-02-26T02:55:37.028890",
   "version": "2.2.2"
  }
 },
 "nbformat": 4,
 "nbformat_minor": 4
}
